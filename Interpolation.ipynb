{
 "cells": [
  {
   "cell_type": "code",
   "execution_count": 75,
   "metadata": {
    "collapsed": true
   },
   "outputs": [],
   "source": [
    "import pickle\n",
    "\n",
    "from openpyxl import load_workbook\n",
    "\n",
    "\n",
    "dataset = pickle.load(open('./datasets/datasets.pickle', 'rb'))\n",
    "weights = pickle.load(open('./datasets/weights.pickle', 'rb'))\n",
    "\n",
    "\n",
    "wb = load_workbook(filename = \"./datasets/test.xlsx\")\n",
    "ws = wb['Data']\n",
    "\n",
    "payments = { row[0].value: row[1].value for row in ws.rows if row[0].value is not None}\n",
    "budget = 407500\n",
    "wb.close()\n",
    "\n",
    "normalize = lambda z, seq: (z - min(seq))/(max(seq) - min(seq))\n",
    "\n",
    "\n",
    "\n",
    "get_criterion = lambda category_metrics: category_metrics['count'] * 6 + category_metrics['weight'] + category_metrics['proportion']"
   ]
  },
  {
   "cell_type": "code",
   "execution_count": 76,
   "outputs": [],
   "source": [
    "import math\n",
    "\n",
    "avg_proportion = {}\n",
    "for category in weights:\n",
    "    sum_ = sum([math.pow(payment[4] / payment[5], 2) for payment in dataset if payment[0] == category])\n",
    "    len_ = len([payment for payment in dataset if payment[0] == category])\n",
    "    avg_proportion[category] = math.sqrt(sum_ / len_) if len_ > 0 else 0\n",
    "\n",
    "\n",
    "rel_counts = {\n",
    "    category: count/ sum(payments.values())\n",
    "    for category, count in payments.items()\n",
    "}\n",
    "rel_weights = {\n",
    "    category: weights[category]/sum([value for key, value in weights.items() if key in payments])\n",
    "    for category in payments\n",
    "}\n",
    "test_metrics = {\n",
    "    category: {\n",
    "        'count': normalize(rel_counts[category], rel_counts.values()),\n",
    "        'proportion': normalize(avg_proportion[category], avg_proportion.values()),\n",
    "        'weight': normalize(rel_weights[category], rel_weights.values())\n",
    "    } for category, count in payments.items() if count\n",
    "}\n",
    "\n",
    "estimated = {\n",
    "    category: get_criterion(test_metrics[category])\n",
    "    for category in payments\n",
    "}"
   ],
   "metadata": {
    "collapsed": false,
    "pycharm": {
     "name": "#%%\n"
    }
   }
  },
  {
   "cell_type": "code",
   "execution_count": null,
   "outputs": [],
   "source": [
    "distributions = {\n",
    "    category: {\n",
    "        'received': budget * (estimated[category]/sum(estimated.values())),\n",
    "    } for category, count in payments.items()\n",
    "}\n",
    "\n",
    "print()"
   ],
   "metadata": {
    "collapsed": false,
    "pycharm": {
     "name": "#%%\n",
     "is_executing": true
    }
   }
  }
 ],
 "metadata": {
  "kernelspec": {
   "display_name": "Python 3",
   "language": "python",
   "name": "python3"
  },
  "language_info": {
   "codemirror_mode": {
    "name": "ipython",
    "version": 2
   },
   "file_extension": ".py",
   "mimetype": "text/x-python",
   "name": "python",
   "nbconvert_exporter": "python",
   "pygments_lexer": "ipython2",
   "version": "2.7.6"
  }
 },
 "nbformat": 4,
 "nbformat_minor": 0
}