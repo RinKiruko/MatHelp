{
 "cells": [
  {
   "cell_type": "code",
   "execution_count": 7,
   "outputs": [
    {
     "name": "stderr",
     "output_type": "stream",
     "text": [
      "/home/hokage/.conda/envs/mathelp/lib/python3.8/site-packages/openpyxl/styles/stylesheet.py:214: UserWarning: Workbook contains no default style, apply openpyxl's default\n",
      "  warn(\"Workbook contains no default style, apply openpyxl's default\")\n"
     ]
    }
   ],
   "source": [
    "import os\n",
    "\n",
    "from openpyxl import load_workbook\n",
    "\n",
    "\n",
    "base_directory = os.getcwd()\n",
    "datasets_directory = os.path.join(base_directory, \"datasets/\")\n",
    "\n",
    "\n",
    "data = {}\n",
    "for year_dir in os.scandir(datasets_directory):\n",
    "    if year_dir.is_dir():\n",
    "        data[year_dir.name] = {}\n",
    "        for file in os.scandir(year_dir.path):\n",
    "            if file.is_file():\n",
    "                payments = []\n",
    "                wb = load_workbook(filename = file.path)\n",
    "                ws = wb['Data']\n",
    "                for row in ws.rows:\n",
    "                    payments.append((row[1].value, float(row[2].value)))\n",
    "                \n",
    "                data[year_dir.name][file.name.split('.')[0]] = payments\n",
    "                wb.close()"
   ],
   "metadata": {
    "collapsed": false,
    "pycharm": {
     "name": "#%%\n"
    }
   }
  },
  {
   "cell_type": "code",
   "execution_count": 8,
   "outputs": [
    {
     "name": "stdout",
     "output_type": "stream",
     "text": [
      "Ehllo\n"
     ]
    }
   ],
   "source": [
    "weights_file = open(\"datasets/weights.pickle\", 'wb')\n",
    "weights = {}\n",
    "\n",
    "from openpyxl import load_workbook\n",
    "import pickle\n",
    "\n",
    "wb = load_workbook(filename=\"./datasets/weights.xlsx\")\n",
    "ws = wb['Sheet1']\n",
    "for row in ws.rows:\n",
    "    if row[0].value is not None:\n",
    "        try:\n",
    "            weights[str(row[0].value)] = float(str(row[1].value or ''))\n",
    "        except ValueError:\n",
    "            print(\"Ehllo\")\n",
    "wb.close()\n",
    "pickle.dump(weights, weights_file)\n",
    "weights_file.close()"
   ],
   "metadata": {
    "collapsed": false,
    "pycharm": {
     "name": "#%%\n"
    }
   }
  },
  {
   "cell_type": "code",
   "execution_count": 9,
   "outputs": [],
   "source": [
    "import pickle\n",
    "\n",
    "dataset = []\n",
    "\n",
    "for category in weights:\n",
    "    for year in data:\n",
    "        for month in data[year]:\n",
    "            budget = sum([payment[1] for payment in data[year][month]])\n",
    "            count = len(list((payment for payment in data[year][month] if payment[0] == category)))\n",
    "            if count> 0:\n",
    "                dataset.append(\n",
    "                    (\n",
    "                        category, \n",
    "                        year, \n",
    "                        month, \n",
    "                        sum([float(payment[1]) for payment in data[year][month] if payment[0] == category]),\n",
    "                        sum([float(payment[1]) for payment in data[year][month] if payment[0] == category]) / float(budget),\n",
    "                        count\n",
    "                    )\n",
    "                )\n",
    "\n",
    "datacases_file = open(\"./datasets/datasets.pickle\", 'wb')\n",
    "pickle.dump(dataset, datacases_file)\n",
    "datacases_file.close()\n"
   ],
   "metadata": {
    "collapsed": false,
    "pycharm": {
     "name": "#%%\n"
    }
   }
  },
  {
   "cell_type": "code",
   "execution_count": 9,
   "outputs": [],
   "source": [
    "\n",
    "\n"
   ],
   "metadata": {
    "collapsed": false,
    "pycharm": {
     "name": "#%%\n"
    }
   }
  }
 ],
 "metadata": {
  "kernelspec": {
   "display_name": "Python 3",
   "language": "python",
   "name": "python3"
  },
  "language_info": {
   "codemirror_mode": {
    "name": "ipython",
    "version": 2
   },
   "file_extension": ".py",
   "mimetype": "text/x-python",
   "name": "python",
   "nbconvert_exporter": "python",
   "pygments_lexer": "ipython2",
   "version": "2.7.6"
  }
 },
 "nbformat": 4,
 "nbformat_minor": 0
}